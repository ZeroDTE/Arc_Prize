{
 "cells": [
  {
   "cell_type": "code",
   "execution_count": 2,
   "metadata": {},
   "outputs": [],
   "source": [
    "import pandas as pd \n",
    "import numpy as np\n",
    "import matplotlib.pyplot as plt\n",
    "from matplotlib import colors\n",
    "import seaborn as sns\n",
    "\n",
    "\n",
    "\n",
    "\n",
    "import json\n"
   ]
  },
  {
   "cell_type": "code",
   "execution_count": 3,
   "metadata": {},
   "outputs": [],
   "source": [
    "path = r\"C:/Users/yahya/Arc_Prize/Arc_Prize/arc-prize-2025/\""
   ]
  },
  {
   "cell_type": "code",
   "execution_count": 4,
   "metadata": {},
   "outputs": [],
   "source": [
    "def load_data(path) : \n",
    "    with open(path) as f : \n",
    "        data  = json.load(f)\n",
    "    return data\n",
    "    \n",
    "\n",
    "\n",
    "\n",
    "\n",
    "\n"
   ]
  },
  {
   "cell_type": "code",
   "execution_count": 5,
   "metadata": {},
   "outputs": [],
   "source": [
    "training_data = load_data(path + \"arc-agi_training_challenges.json\")\n",
    "training_solotions = load_data(path + \"arc-agi_training_solutions.json\")\n",
    "\n",
    "evaluation_data = load_data(path + \"arc-agi_evaluation_challenges.json\")\n",
    "evaluation_solotions = load_data(path + \"arc-agi_evaluation_solutions.json\")\n",
    "\n",
    "\n",
    "\n",
    "\n",
    "\n",
    "\n",
    "\n",
    "\n",
    "\n",
    "\n",
    "\n"
   ]
  },
  {
   "cell_type": "code",
   "execution_count": 6,
   "metadata": {},
   "outputs": [
    {
     "data": {
      "text/plain": [
       "1000"
      ]
     },
     "execution_count": 6,
     "metadata": {},
     "output_type": "execute_result"
    }
   ],
   "source": [
    "len(training_data ) "
   ]
  },
  {
   "cell_type": "code",
   "execution_count": 23,
   "metadata": {},
   "outputs": [
    {
     "data": {
      "text/plain": [
       "{'train': [{'input': [[7, 9], [4, 3]],\n",
       "   'output': [[7, 9, 7, 9, 7, 9],\n",
       "    [4, 3, 4, 3, 4, 3],\n",
       "    [9, 7, 9, 7, 9, 7],\n",
       "    [3, 4, 3, 4, 3, 4],\n",
       "    [7, 9, 7, 9, 7, 9],\n",
       "    [4, 3, 4, 3, 4, 3]]},\n",
       "  {'input': [[8, 6], [6, 4]],\n",
       "   'output': [[8, 6, 8, 6, 8, 6],\n",
       "    [6, 4, 6, 4, 6, 4],\n",
       "    [6, 8, 6, 8, 6, 8],\n",
       "    [4, 6, 4, 6, 4, 6],\n",
       "    [8, 6, 8, 6, 8, 6],\n",
       "    [6, 4, 6, 4, 6, 4]]}],\n",
       " 'test': [{'input': [[3, 2], [7, 8]]}]}"
      ]
     },
     "execution_count": 23,
     "metadata": {},
     "output_type": "execute_result"
    }
   ],
   "source": [
    "training_data[\"00576224\"]"
   ]
  },
  {
   "cell_type": "code",
   "execution_count": 25,
   "metadata": {},
   "outputs": [
    {
     "data": {
      "text/plain": [
       "{'input': [[7, 9], [4, 3]],\n",
       " 'output': [[7, 9, 7, 9, 7, 9],\n",
       "  [4, 3, 4, 3, 4, 3],\n",
       "  [9, 7, 9, 7, 9, 7],\n",
       "  [3, 4, 3, 4, 3, 4],\n",
       "  [7, 9, 7, 9, 7, 9],\n",
       "  [4, 3, 4, 3, 4, 3]]}"
      ]
     },
     "execution_count": 25,
     "metadata": {},
     "output_type": "execute_result"
    }
   ],
   "source": [
    "training_data[\"00576224\"][\"train\"][0]"
   ]
  },
  {
   "cell_type": "code",
   "execution_count": 26,
   "metadata": {},
   "outputs": [
    {
     "data": {
      "text/plain": [
       "[[7, 9], [4, 3]]"
      ]
     },
     "execution_count": 26,
     "metadata": {},
     "output_type": "execute_result"
    }
   ],
   "source": [
    "training_data[\"00576224\"][\"train\"][0][\"input\"]"
   ]
  },
  {
   "cell_type": "code",
   "execution_count": 28,
   "metadata": {},
   "outputs": [
    {
     "data": {
      "text/plain": [
       "([7, 9], [4, 3])"
      ]
     },
     "execution_count": 28,
     "metadata": {},
     "output_type": "execute_result"
    }
   ],
   "source": [
    "training_data[\"00576224\"][\"train\"][0][\"input\"][0],training_data[\"00576224\"][\"train\"][0][\"input\"][1]"
   ]
  },
  {
   "cell_type": "code",
   "execution_count": null,
   "metadata": {},
   "outputs": [],
   "source": [
    "training_data[\"00576224\"][\"train\"][0][\"input\"][0],training_data[\"00576224\"][\"train\"][0][\"input\"][1]"
   ]
  },
  {
   "cell_type": "code",
   "execution_count": 30,
   "metadata": {},
   "outputs": [
    {
     "data": {
      "text/plain": [
       "{'input': [[8, 6], [6, 4]],\n",
       " 'output': [[8, 6, 8, 6, 8, 6],\n",
       "  [6, 4, 6, 4, 6, 4],\n",
       "  [6, 8, 6, 8, 6, 8],\n",
       "  [4, 6, 4, 6, 4, 6],\n",
       "  [8, 6, 8, 6, 8, 6],\n",
       "  [6, 4, 6, 4, 6, 4]]}"
      ]
     },
     "execution_count": 30,
     "metadata": {},
     "output_type": "execute_result"
    }
   ],
   "source": [
    "training_data[\"00576224\"][\"train\"][1]"
   ]
  },
  {
   "cell_type": "code",
   "execution_count": 31,
   "metadata": {},
   "outputs": [
    {
     "data": {
      "text/plain": [
       "[[8, 6], [6, 4]]"
      ]
     },
     "execution_count": 31,
     "metadata": {},
     "output_type": "execute_result"
    }
   ],
   "source": [
    "training_data[\"00576224\"][\"train\"][1][\"input\"]\n"
   ]
  },
  {
   "cell_type": "code",
   "execution_count": 34,
   "metadata": {},
   "outputs": [
    {
     "data": {
      "text/plain": [
       "{'input': [[3, 2], [7, 8]]}"
      ]
     },
     "execution_count": 34,
     "metadata": {},
     "output_type": "execute_result"
    }
   ],
   "source": [
    "training_data[\"00576224\"][\"test\"][0]\n",
    "\n"
   ]
  },
  {
   "cell_type": "code",
   "execution_count": null,
   "metadata": {},
   "outputs": [],
   "source": [
    "\n",
    "liste = list(training_data)\n",
    "liste1 = list(training_data)[0]"
   ]
  },
  {
   "cell_type": "code",
   "execution_count": 93,
   "metadata": {},
   "outputs": [
    {
     "data": {
      "text/plain": [
       "([[[3, 2, 3, 2, 3, 2],\n",
       "   [7, 8, 7, 8, 7, 8],\n",
       "   [2, 3, 2, 3, 2, 3],\n",
       "   [8, 7, 8, 7, 8, 7],\n",
       "   [3, 2, 3, 2, 3, 2],\n",
       "   [7, 8, 7, 8, 7, 8]]],\n",
       " {'train': [{'input': [[7, 9], [4, 3]],\n",
       "    'output': [[7, 9, 7, 9, 7, 9],\n",
       "     [4, 3, 4, 3, 4, 3],\n",
       "     [9, 7, 9, 7, 9, 7],\n",
       "     [3, 4, 3, 4, 3, 4],\n",
       "     [7, 9, 7, 9, 7, 9],\n",
       "     [4, 3, 4, 3, 4, 3]]},\n",
       "   {'input': [[8, 6], [6, 4]],\n",
       "    'output': [[8, 6, 8, 6, 8, 6],\n",
       "     [6, 4, 6, 4, 6, 4],\n",
       "     [6, 8, 6, 8, 6, 8],\n",
       "     [4, 6, 4, 6, 4, 6],\n",
       "     [8, 6, 8, 6, 8, 6],\n",
       "     [6, 4, 6, 4, 6, 4]]}],\n",
       "  'test': [{'input': [[3, 2], [7, 8]]}]})"
      ]
     },
     "execution_count": 93,
     "metadata": {},
     "output_type": "execute_result"
    }
   ],
   "source": [
    "task = training_data [liste1]\n",
    "task\n",
    "\n",
    "task_solution = training_solotions[liste1]\n",
    "task_solution, task\n"
   ]
  },
  {
   "cell_type": "code",
   "execution_count": 78,
   "metadata": {},
   "outputs": [
    {
     "data": {
      "text/plain": [
       "[[3, 2], [7, 8]]"
      ]
     },
     "execution_count": 78,
     "metadata": {},
     "output_type": "execute_result"
    }
   ],
   "source": [
    "training_data[\"00576224\"][\"test\"][0][\"input\"]"
   ]
  },
  {
   "cell_type": "code",
   "execution_count": 124,
   "metadata": {},
   "outputs": [],
   "source": [
    "#list(training_data.keys())\n",
    "\n",
    "\n",
    "\n",
    "\n",
    "\n"
   ]
  },
  {
   "cell_type": "code",
   "execution_count": 38,
   "metadata": {},
   "outputs": [],
   "source": [
    "# plotting the data     "
   ]
  },
  {
   "cell_type": "code",
   "execution_count": 58,
   "metadata": {},
   "outputs": [
    {
     "data": {
      "image/png": "[encoded data removed]",
      "text/plain": [
       "<Figure size 450x150 with 1 Axes>"
      ]
     },
     "metadata": {},
     "output_type": "display_data"
    }
   ],
   "source": [
    "# Create a custom colormap with 10 distinct colors\n",
    "# Each color corresponds to a number from 0-9\n",
    "cmap = colors.ListedColormap(['#000000', '#0074D9', '#FF4136', '#2ECC40', '#FFDC00',\n",
    "     '#AAAAAA', '#F012BE', '#FF851B', '#7FDBFF', '#870C25'])\n",
    "\n",
    "# Set the normalization range from 0 to 9 to match our data\n",
    "norm = colors.Normalize(vmin=0, vmax=9)\n",
    "\n",
    "# Create a figure with specified dimensions and DPI\n",
    "plt.figure(figsize=(3, 1), dpi=150 )\n",
    "\n",
    "# Display a single row showing all 10 colors\n",
    "plt.imshow([list(range(10))], cmap=cmap, norm=norm)\n",
    "\n",
    "# Add x-axis ticks for numbers 0-9\n",
    "plt.xticks(list(range(10)))\n",
    "\n",
    "# Remove y-axis ticks since we only have one row\n",
    "plt.yticks([])\n",
    "\n",
    "# Add a title to the plot\n",
    "plt.title(\"Color Map\")\n",
    "\n",
    "# Customize x-axis tick appearance - red color, no tick marks\n",
    "plt.tick_params(axis = \"x\",color = \"red\" , length = 0, grid_color = \"none\")\n",
    "\n",
    "# Display the plot\n",
    "plt.show()\n",
    "\n",
    "\n",
    "\n"
   ]
  },
  {
   "cell_type": "code",
   "execution_count": 73,
   "metadata": {},
   "outputs": [
    {
     "data": {
      "text/plain": [
       "'00576224'"
      ]
     },
     "execution_count": 73,
     "metadata": {},
     "output_type": "execute_result"
    }
   ],
   "source": [
    "list(training_data)[0]"
   ]
  },
  {
   "cell_type": "code",
   "execution_count": 75,
   "metadata": {},
   "outputs": [
    {
     "data": {
      "text/plain": [
       "'00576224'"
      ]
     },
     "execution_count": 75,
     "metadata": {},
     "output_type": "execute_result"
    }
   ],
   "source": [
    "t = list(training_data)[0]\n",
    "t"
   ]
  },
  {
   "cell_type": "code",
   "execution_count": 117,
   "metadata": {},
   "outputs": [],
   "source": [
    "def  plot_task(task, task_solutions, i, t, size = 3, w1= 0.9):\n",
    "    t = list(training_data)[i] #see cell  above to see how this works\n",
    "\n",
    "    titleSize = 16\n",
    "    num_train = len(task[\"train\"])\n",
    "    num_test = len(task[\"test\"])\n",
    "\n",
    "    wn = num_test + num_train\n",
    "\n",
    "    fig, axes = plt.subplots(2, wn, figsize = (size * wn, 2 *size))\n",
    "\n",
    "    plt.suptitle(f\"Task #{i},{t}\", fontsize = titleSize, fontweight = \"bold\", y = 1,color = \"#eeeeee\")\n",
    "\n",
    "    for j in range(num_train):\n",
    "        plot_one(axes[0,j], j, task, \"train\", \"input\", None, w1)\n",
    "        plot_one(axes[1,j], j, task, \"train\", \"output\", None, w1)\n",
    "\n",
    "    for k in range(num_test):\n",
    "        plot_one(axes[0,j +k +1], k, task, \"test\", \"input\", None, w1)\n",
    "        task[\"test\"][k][\"output\"] = task_solutions[k]\n",
    "        plot_one(axes[1,j +k +1], k, task, \"test\", \"output\", None, w1)\n",
    "\n",
    "    plt.tight_layout()\n",
    "\n",
    "    print(f\"Task {i} : {t}\")\n",
    "    plt.show()\n",
    "\n",
    " \n",
    "\n",
    "    \n",
    "\n",
    "\n"
   ]
  },
  {
   "cell_type": "code",
   "execution_count": 118,
   "metadata": {},
   "outputs": [],
   "source": [
    "def plot_one(ax,i, task,train_or_test, input_or_output, solution = None, w = 0.9):\n",
    "    fs = 12\n",
    "    input_matrix = task[train_or_test][i][input_or_output]\n",
    "    ax.imshow(input_matrix, cmap = cmap, norm = norm)\n",
    "\n",
    "    plt.setp(plt.gcf().axes, xticks = [], yticks = [])\n",
    "\n",
    "    ax.grid(visible = True, which = \"both\", color = \"#666666\",linewidth = 0)    \n",
    "\n",
    "    ax.tick_params(axis = \"both\", color = \"none\", length = 0)\n",
    "\n",
    "    ax.set_title(train_or_test + \" \" + input_or_output + \" \" , fontsize = fs, color = \"#dddddd\")\n",
    "\n",
    "\n",
    "\n",
    "\n",
    "\n"
   ]
  },
  {
   "cell_type": "code",
   "execution_count": 119,
   "metadata": {},
   "outputs": [],
   "source": [
    "t = \"0b148d64\""
   ]
  },
  {
   "cell_type": "code",
   "execution_count": 123,
   "metadata": {},
   "outputs": [
    {
     "name": "stdout",
     "output_type": "stream",
     "text": [
      "Task 0 : 00576224\n"
     ]
    },
    {
     "data": {
      "image/png": "[encoded data removed]",
      "text/plain": [
       "<Figure size 900x600 with 6 Axes>"
      ]
     },
     "metadata": {},
     "output_type": "display_data"
    },
    {
     "name": "stdout",
     "output_type": "stream",
     "text": [
      "Task 0 : 00576224\n"
     ]
    },
    {
     "data": {
      "image/png": "[encoded data removed]",
      "text/plain": [
       "<Figure size 1800x600 with 12 Axes>"
      ]
     },
     "metadata": {},
     "output_type": "display_data"
    },
    {
     "name": "stdout",
     "output_type": "stream",
     "text": [
      "Task 0 : 00576224\n"
     ]
    },
    {
     "data": {
      "image/png": "[encoded data removed]",
      "text/plain": [
       "<Figure size 1800x600 with 12 Axes>"
      ]
     },
     "metadata": {},
     "output_type": "display_data"
    }
   ],
   "source": [
    "for i in range(3):\n",
    "    t = list(training_data)[i]\n",
    "    task = training_data[t]\n",
    "    task_solution = training_solotions[t]\n",
    "    plot_task(task, task_solution, 0, t)\n",
    "\n"
   ]
  },
  {
   "cell_type": "code",
   "execution_count": null,
   "metadata": {},
   "outputs": [],
   "source": []
  }
 ],
 "metadata": {
  "kernelspec": {
   "display_name": "Python 3",
   "language": "python",
   "name": "python3"
  },
  "language_info": {
   "codemirror_mode": {
    "name": "ipython",
    "version": 3
   },
   "file_extension": ".py",
   "mimetype": "text/x-python",
   "name": "python",
   "nbconvert_exporter": "python",
   "pygments_lexer": "ipython3",
   "version": "3.10.11"
  }
 },
 "nbformat": 4,
 "nbformat_minor": 2
}
