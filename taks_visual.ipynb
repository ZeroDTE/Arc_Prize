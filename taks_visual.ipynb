{
 "cells": [
  {
   "cell_type": "code",
   "execution_count": 1,
   "metadata": {},
   "outputs": [],
   "source": [
    "import pandas as pd \n",
    "import numpy as np\n",
    "import matplotlib.pyplot as plt\n",
    "from matplotlib import colors\n",
    "import seaborn as sns\n",
    "\n",
    "\n",
    "\n",
    "\n",
    "import json\n"
   ]
  },
  {
   "cell_type": "code",
   "execution_count": 2,
   "metadata": {},
   "outputs": [],
   "source": [
    "path = r\"C:/Users/yahya/Arc_Prize/Arc_Prize/arc-prize-2025/\""
   ]
  },
  {
   "cell_type": "code",
   "execution_count": 3,
   "metadata": {},
   "outputs": [],
   "source": [
    "def load_data(path) : \n",
    "    with open(path) as f : \n",
    "        data  = json.load(f)\n",
    "    return data\n",
    "    \n",
    "\n",
    "\n",
    "\n",
    "\n",
    "\n"
   ]
  },
  {
   "cell_type": "code",
   "execution_count": 4,
   "metadata": {},
   "outputs": [],
   "source": [
    "training_data = load_data(path + \"arc-agi_training_challenges.json\")\n",
    "training_solotions = load_data(path + \"arc-agi_training_solutions.json\")\n",
    "\n",
    "evaluation_data = load_data(path + \"arc-agi_evaluation_challenges.json\")\n",
    "evaluation_solotions = load_data(path + \"arc-agi_evaluation_solutions.json\")\n",
    "\n",
    "\n",
    "\n",
    "\n",
    "\n",
    "\n",
    "\n",
    "\n",
    "\n",
    "\n",
    "\n"
   ]
  },
  {
   "cell_type": "code",
   "execution_count": 5,
   "metadata": {},
   "outputs": [
    {
     "data": {
      "text/plain": [
       "1000"
      ]
     },
     "execution_count": 5,
     "metadata": {},
     "output_type": "execute_result"
    }
   ],
   "source": [
    "len(training_data ) "
   ]
  },
  {
   "cell_type": "code",
   "execution_count": 6,
   "metadata": {},
   "outputs": [
    {
     "data": {
      "text/plain": [
       "{'train': [{'input': [[7, 9], [4, 3]],\n",
       "   'output': [[7, 9, 7, 9, 7, 9],\n",
       "    [4, 3, 4, 3, 4, 3],\n",
       "    [9, 7, 9, 7, 9, 7],\n",
       "    [3, 4, 3, 4, 3, 4],\n",
       "    [7, 9, 7, 9, 7, 9],\n",
       "    [4, 3, 4, 3, 4, 3]]},\n",
       "  {'input': [[8, 6], [6, 4]],\n",
       "   'output': [[8, 6, 8, 6, 8, 6],\n",
       "    [6, 4, 6, 4, 6, 4],\n",
       "    [6, 8, 6, 8, 6, 8],\n",
       "    [4, 6, 4, 6, 4, 6],\n",
       "    [8, 6, 8, 6, 8, 6],\n",
       "    [6, 4, 6, 4, 6, 4]]}],\n",
       " 'test': [{'input': [[3, 2], [7, 8]]}]}"
      ]
     },
     "execution_count": 6,
     "metadata": {},
     "output_type": "execute_result"
    }
   ],
   "source": [
    "training_data[\"00576224\"]"
   ]
  },
  {
   "cell_type": "code",
   "execution_count": 7,
   "metadata": {},
   "outputs": [
    {
     "data": {
      "text/plain": [
       "{'input': [[7, 9], [4, 3]],\n",
       " 'output': [[7, 9, 7, 9, 7, 9],\n",
       "  [4, 3, 4, 3, 4, 3],\n",
       "  [9, 7, 9, 7, 9, 7],\n",
       "  [3, 4, 3, 4, 3, 4],\n",
       "  [7, 9, 7, 9, 7, 9],\n",
       "  [4, 3, 4, 3, 4, 3]]}"
      ]
     },
     "execution_count": 7,
     "metadata": {},
     "output_type": "execute_result"
    }
   ],
   "source": [
    "training_data[\"00576224\"][\"train\"][0]"
   ]
  },
  {
   "cell_type": "code",
   "execution_count": 8,
   "metadata": {},
   "outputs": [
    {
     "data": {
      "text/plain": [
       "[[7, 9], [4, 3]]"
      ]
     },
     "execution_count": 8,
     "metadata": {},
     "output_type": "execute_result"
    }
   ],
   "source": [
    "training_data[\"00576224\"][\"train\"][0][\"input\"]"
   ]
  },
  {
   "cell_type": "code",
   "execution_count": 9,
   "metadata": {},
   "outputs": [
    {
     "data": {
      "text/plain": [
       "([7, 9], [4, 3])"
      ]
     },
     "execution_count": 9,
     "metadata": {},
     "output_type": "execute_result"
    }
   ],
   "source": [
    "training_data[\"00576224\"][\"train\"][0][\"input\"][0],training_data[\"00576224\"][\"train\"][0][\"input\"][1]"
   ]
  },
  {
   "cell_type": "code",
   "execution_count": 10,
   "metadata": {},
   "outputs": [
    {
     "data": {
      "text/plain": [
       "([7, 9], [4, 3])"
      ]
     },
     "execution_count": 10,
     "metadata": {},
     "output_type": "execute_result"
    }
   ],
   "source": [
    "training_data[\"00576224\"][\"train\"][0][\"input\"][0],training_data[\"00576224\"][\"train\"][0][\"input\"][1]"
   ]
  },
  {
   "cell_type": "code",
   "execution_count": 11,
   "metadata": {},
   "outputs": [
    {
     "data": {
      "text/plain": [
       "{'input': [[8, 6], [6, 4]],\n",
       " 'output': [[8, 6, 8, 6, 8, 6],\n",
       "  [6, 4, 6, 4, 6, 4],\n",
       "  [6, 8, 6, 8, 6, 8],\n",
       "  [4, 6, 4, 6, 4, 6],\n",
       "  [8, 6, 8, 6, 8, 6],\n",
       "  [6, 4, 6, 4, 6, 4]]}"
      ]
     },
     "execution_count": 11,
     "metadata": {},
     "output_type": "execute_result"
    }
   ],
   "source": [
    "training_data[\"00576224\"][\"train\"][1]"
   ]
  },
  {
   "cell_type": "code",
   "execution_count": 12,
   "metadata": {},
   "outputs": [
    {
     "data": {
      "text/plain": [
       "[[8, 6], [6, 4]]"
      ]
     },
     "execution_count": 12,
     "metadata": {},
     "output_type": "execute_result"
    }
   ],
   "source": [
    "training_data[\"00576224\"][\"train\"][1][\"input\"]\n"
   ]
  },
  {
   "cell_type": "code",
   "execution_count": 13,
   "metadata": {},
   "outputs": [
    {
     "data": {
      "text/plain": [
       "{'input': [[3, 2], [7, 8]]}"
      ]
     },
     "execution_count": 13,
     "metadata": {},
     "output_type": "execute_result"
    }
   ],
   "source": [
    "training_data[\"00576224\"][\"test\"][0]\n",
    "\n"
   ]
  },
  {
   "cell_type": "code",
   "execution_count": 14,
   "metadata": {},
   "outputs": [],
   "source": [
    "\n",
    "liste = list(training_data)\n",
    "liste1 = list(training_data)[0]"
   ]
  },
  {
   "cell_type": "code",
   "execution_count": 15,
   "metadata": {},
   "outputs": [
    {
     "data": {
      "text/plain": [
       "([[[3, 2, 3, 2, 3, 2],\n",
       "   [7, 8, 7, 8, 7, 8],\n",
       "   [2, 3, 2, 3, 2, 3],\n",
       "   [8, 7, 8, 7, 8, 7],\n",
       "   [3, 2, 3, 2, 3, 2],\n",
       "   [7, 8, 7, 8, 7, 8]]],\n",
       " {'train': [{'input': [[7, 9], [4, 3]],\n",
       "    'output': [[7, 9, 7, 9, 7, 9],\n",
       "     [4, 3, 4, 3, 4, 3],\n",
       "     [9, 7, 9, 7, 9, 7],\n",
       "     [3, 4, 3, 4, 3, 4],\n",
       "     [7, 9, 7, 9, 7, 9],\n",
       "     [4, 3, 4, 3, 4, 3]]},\n",
       "   {'input': [[8, 6], [6, 4]],\n",
       "    'output': [[8, 6, 8, 6, 8, 6],\n",
       "     [6, 4, 6, 4, 6, 4],\n",
       "     [6, 8, 6, 8, 6, 8],\n",
       "     [4, 6, 4, 6, 4, 6],\n",
       "     [8, 6, 8, 6, 8, 6],\n",
       "     [6, 4, 6, 4, 6, 4]]}],\n",
       "  'test': [{'input': [[3, 2], [7, 8]]}]})"
      ]
     },
     "execution_count": 15,
     "metadata": {},
     "output_type": "execute_result"
    }
   ],
   "source": [
    "task = training_data [liste1]\n",
    "task\n",
    "\n",
    "task_solution = training_solotions[liste1]\n",
    "task_solution, task\n"
   ]
  },
  {
   "cell_type": "code",
   "execution_count": 14,
   "metadata": {},
   "outputs": [
    {
     "data": {
      "text/plain": [
       "[[3, 2], [7, 8]]"
      ]
     },
     "execution_count": 14,
     "metadata": {},
     "output_type": "execute_result"
    }
   ],
   "source": [
    "training_data[\"00576224\"][\"test\"][0][\"input\"]"
   ]
  },
  {
   "cell_type": "code",
   "execution_count": 15,
   "metadata": {},
   "outputs": [],
   "source": [
    "#list(training_data.keys())\n",
    "\n",
    "\n",
    "\n",
    "\n",
    "\n"
   ]
  },
  {
   "cell_type": "code",
   "execution_count": 16,
   "metadata": {},
   "outputs": [],
   "source": [
    "# plotting the data     "
   ]
  },
  {
   "cell_type": "code",
   "execution_count": 17,
   "metadata": {},
   "outputs": [
    {
     "data": {
      "image/png": "[encoded data removed]",
      "text/plain": [
       "<Figure size 450x150 with 1 Axes>"
      ]
     },
     "metadata": {},
     "output_type": "display_data"
    }
   ],
   "source": [
    "# Create a custom colormap with 10 distinct colors\n",
    "# Each color corresponds to a number from 0-9\n",
    "cmap = colors.ListedColormap(['#000000', '#0074D9', '#FF4136', '#2ECC40', '#FFDC00',\n",
    "     '#AAAAAA', '#F012BE', '#FF851B', '#7FDBFF', '#870C25'])\n",
    "\n",
    "# Set the normalization range from 0 to 9 to match our data\n",
    "norm = colors.Normalize(vmin=0, vmax=9)\n",
    "\n",
    "# Create a figure with specified dimensions and DPI\n",
    "plt.figure(figsize=(3, 1), dpi=150 )\n",
    "\n",
    "# Display a single row showing all 10 colors\n",
    "plt.imshow([list(range(10))], cmap=cmap, norm=norm)\n",
    "\n",
    "# Add x-axis ticks for numbers 0-9\n",
    "plt.xticks(list(range(10)))\n",
    "\n",
    "# Remove y-axis ticks since we only have one row\n",
    "plt.yticks([])\n",
    "\n",
    "# Add a title to the plot\n",
    "plt.title(\"Color Map\")\n",
    "\n",
    "# Customize x-axis tick appearance - red color, no tick marks\n",
    "plt.tick_params(axis = \"x\",color = \"red\" , length = 0, grid_color = \"none\")\n",
    "\n",
    "# Display the plot\n",
    "plt.show()\n",
    "\n",
    "\n",
    "\n"
   ]
  },
  {
   "cell_type": "code",
   "execution_count": 18,
   "metadata": {},
   "outputs": [
    {
     "data": {
      "text/plain": [
       "'00576224'"
      ]
     },
     "execution_count": 18,
     "metadata": {},
     "output_type": "execute_result"
    }
   ],
   "source": [
    "list(training_data)[0]"
   ]
  },
  {
   "cell_type": "code",
   "execution_count": 19,
   "metadata": {},
   "outputs": [
    {
     "data": {
      "text/plain": [
       "'00576224'"
      ]
     },
     "execution_count": 19,
     "metadata": {},
     "output_type": "execute_result"
    }
   ],
   "source": [
    "t = list(training_data)[0]\n",
    "t"
   ]
  },
  {
   "cell_type": "code",
   "execution_count": 20,
   "metadata": {},
   "outputs": [],
   "source": [
    "def  plot_task(task, task_solutions, i, t, size = 3, w1= 0.9):\n",
    "    t = list(training_data)[i] #see cell  above to see how this works\n",
    "\n",
    "    titleSize = 16\n",
    "    num_train = len(task[\"train\"])\n",
    "    num_test = len(task[\"test\"])\n",
    "\n",
    "    wn = num_test + num_train\n",
    "\n",
    "    fig, axes = plt.subplots(2, wn, figsize = (size * wn, 2 *size))\n",
    "\n",
    "    plt.suptitle(f\"Task #{i},{t}\", fontsize = titleSize, fontweight = \"bold\", y = 1,color = \"#eeeeee\")\n",
    "\n",
    "    for j in range(num_train):\n",
    "        plot_one(axes[0,j], j, task, \"train\", \"input\", None, w1)\n",
    "        plot_one(axes[1,j], j, task, \"train\", \"output\", None, w1)\n",
    "\n",
    "    for k in range(num_test):\n",
    "        plot_one(axes[0,j +k +1], k, task, \"test\", \"input\", None, w1)\n",
    "        task[\"test\"][k][\"output\"] = task_solutions[k]\n",
    "        plot_one(axes[1,j +k +1], k, task, \"test\", \"output\", None, w1)\n",
    "\n",
    "    plt.tight_layout()\n",
    "\n",
    "    print(f\"Task {i} : {t}\")\n",
    "    plt.show()\n",
    "\n",
    " \n",
    "\n",
    "    \n",
    "\n",
    "\n"
   ]
  },
  {
   "cell_type": "code",
   "execution_count": 21,
   "metadata": {},
   "outputs": [],
   "source": [
    "def plot_one(ax,i, task,train_or_test, input_or_output, solution = None, w = 0.9):\n",
    "    fs = 12\n",
    "    input_matrix = task[train_or_test][i][input_or_output]\n",
    "    ax.imshow(input_matrix, cmap = cmap, norm = norm)\n",
    "\n",
    "    plt.setp(plt.gcf().axes, xticks = [], yticks = [])\n",
    "\n",
    "    ax.grid(visible = True, which = \"both\", color = \"#666666\",linewidth = 0)    \n",
    "\n",
    "    ax.tick_params(axis = \"both\", color = \"none\", length = 0)\n",
    "\n",
    "    ax.set_title(train_or_test + \" \" + input_or_output + \" \" , fontsize = fs, color = \"#dddddd\")\n",
    "\n",
    "\n",
    "\n",
    "\n",
    "\n"
   ]
  },
  {
   "cell_type": "code",
   "execution_count": 22,
   "metadata": {},
   "outputs": [],
   "source": [
    "t = \"0b148d64\""
   ]
  },
  {
   "cell_type": "code",
   "execution_count": 23,
   "metadata": {},
   "outputs": [
    {
     "name": "stdout",
     "output_type": "stream",
     "text": [
      "Task 0 : 00576224\n"
     ]
    },
    {
     "data": {
      "image/png": "[encoded data removed]",
      "text/plain": [
       "<Figure size 900x600 with 6 Axes>"
      ]
     },
     "metadata": {},
     "output_type": "display_data"
    },
    {
     "name": "stdout",
     "output_type": "stream",
     "text": [
      "Task 0 : 00576224\n"
     ]
    },
    {
     "data": {
      "image/png": "[encoded data removed]",
      "text/plain": [
       "<Figure size 1800x600 with 12 Axes>"
      ]
     },
     "metadata": {},
     "output_type": "display_data"
    },
    {
     "name": "stdout",
     "output_type": "stream",
     "text": [
      "Task 0 : 00576224\n"
     ]
    },
    {
     "data": {
      "image/png": "[encoded data removed]",
      "text/plain": [
       "<Figure size 1800x600 with 12 Axes>"
      ]
     },
     "metadata": {},
     "output_type": "display_data"
    }
   ],
   "source": [
    "for i in range(3):\n",
    "    t = list(training_data)[i]\n",
    "    task = training_data[t]\n",
    "    task_solution = training_solotions[t]\n",
    "    plot_task(task, task_solution, 0, t)\n",
    "\n"
   ]
  },
  {
   "cell_type": "code",
   "execution_count": 24,
   "metadata": {},
   "outputs": [],
   "source": [
    "def fastPlot(i, s= 3): \n",
    "    t = list(training_data)[i]\n",
    "    task = training_data[t]\n",
    "    task_solution = training_solotions[t]\n",
    "    plot_task(task, task_solution, i, t,s )\n",
    "    "
   ]
  },
  {
   "cell_type": "code",
   "execution_count": 25,
   "metadata": {},
   "outputs": [
    {
     "name": "stdout",
     "output_type": "stream",
     "text": [
      "Task 1 : 007bbfb7\n"
     ]
    },
    {
     "data": {
      "image/png": "[encoded data removed]",
      "text/plain": [
       "<Figure size 1800x600 with 12 Axes>"
      ]
     },
     "metadata": {},
     "output_type": "display_data"
    }
   ],
   "source": [
    "fastPlot(1)"
   ]
  },
  {
   "cell_type": "code",
   "execution_count": 70,
   "metadata": {},
   "outputs": [],
   "source": [
    "def fast_task(i):\n",
    "    t = list(training_data)[i]\n",
    "    task = training_data[t]\n",
    "    return task\n",
    "\n",
    "#task = fast_task(0)\n",
    "\n",
    "\n",
    "task_bsp=fast_task(0)\n"
   ]
  },
  {
   "cell_type": "markdown",
   "metadata": {},
   "source": [
    "#### Feature extraction\n"
   ]
  },
  {
   "cell_type": "code",
   "execution_count": 85,
   "metadata": {},
   "outputs": [
    {
     "data": {
      "text/plain": [
       "{'train': [{'input': [[7, 9], [4, 3]],\n",
       "   'output': [[7, 9, 7, 9, 7, 9],\n",
       "    [4, 3, 4, 3, 4, 3],\n",
       "    [9, 7, 9, 7, 9, 7],\n",
       "    [3, 4, 3, 4, 3, 4],\n",
       "    [7, 9, 7, 9, 7, 9],\n",
       "    [4, 3, 4, 3, 4, 3]]},\n",
       "  {'input': [[8, 6], [6, 4]],\n",
       "   'output': [[8, 6, 8, 6, 8, 6],\n",
       "    [6, 4, 6, 4, 6, 4],\n",
       "    [6, 8, 6, 8, 6, 8],\n",
       "    [4, 6, 4, 6, 4, 6],\n",
       "    [8, 6, 8, 6, 8, 6],\n",
       "    [6, 4, 6, 4, 6, 4]]}],\n",
       " 'test': [{'input': [[3, 2], [7, 8]],\n",
       "   'output': [[3, 2, 3, 2, 3, 2],\n",
       "    [7, 8, 7, 8, 7, 8],\n",
       "    [2, 3, 2, 3, 2, 3],\n",
       "    [8, 7, 8, 7, 8, 7],\n",
       "    [3, 2, 3, 2, 3, 2],\n",
       "    [7, 8, 7, 8, 7, 8]]}]}"
      ]
     },
     "execution_count": 85,
     "metadata": {},
     "output_type": "execute_result"
    }
   ],
   "source": [
    "task_bsp"
   ]
  },
  {
   "cell_type": "code",
   "execution_count": 107,
   "metadata": {},
   "outputs": [],
   "source": [
    "def get_objects(task) : \n",
    "    x,y = [], []\n",
    "\n",
    "    for i in task[\"train\"] : \n",
    "        x.append(np.array(i[\"input\"]))\n",
    "        y.append(np.array(i[\"output\"]))\n",
    "                 \n",
    "    return x,y \n",
    "\n",
    "\n",
    "\n"
   ]
  },
  {
   "cell_type": "markdown",
   "metadata": {},
   "source": [
    "### New"
   ]
  },
  {
   "cell_type": "code",
   "execution_count": 135,
   "metadata": {},
   "outputs": [],
   "source": [
    "def get_objects_test(task) : \n",
    "    x,y = [], []\n",
    "\n",
    "    for i in task[\"test\"] : \n",
    "        x.append(np.array(i[\"input\"]))\n",
    "        y.append(np.array(i[\"output\"]))\n",
    "                 \n",
    "    return x,y "
   ]
  },
  {
   "cell_type": "code",
   "execution_count": 145,
   "metadata": {},
   "outputs": [
    {
     "data": {
      "text/plain": [
       "False"
      ]
     },
     "execution_count": 145,
     "metadata": {},
     "output_type": "execute_result"
    }
   ],
   "source": [
    "def isSameSizeInOut(task): \n",
    "    return all([np.shape(x)==np.shape(y) for x, y in zip(*get_objects(task))])\n",
    "\n",
    "\n",
    "isSameSizeInOut(task1)"
   ]
  },
  {
   "cell_type": "markdown",
   "metadata": {},
   "source": [
    "### New"
   ]
  },
  {
   "cell_type": "code",
   "execution_count": null,
   "metadata": {},
   "outputs": [],
   "source": [
    "# check if all the inputs are the same siz and all the outputs are the same size\n",
    "\n",
    "\n",
    "    # if isSameSizeInOut(task):\n",
    "        # .....\n",
    "            \n",
    "\n",
    "# if not  return the size of the inputs and the size of the outputs as a list for all the inputs and outputs for later use"
   ]
  },
  {
   "cell_type": "code",
   "execution_count": 140,
   "metadata": {},
   "outputs": [],
   "source": [
    "\n",
    "\n",
    "def widthIn(task):\n",
    "    \n",
    "    for x, y in zip(*get_objects(task)):\n",
    "\n",
    "        s=  np.shape(x)[1] \n",
    "    return s\n",
    "        \n",
    "\n",
    "def widthOut(task):\n",
    "    for x, y in zip(*get_objects(task)):\n",
    "        s = np.shape(y)[1]\n",
    "    return s\n",
    "\n",
    "def heightIn(task):\n",
    "    for x, y in zip(*get_objects(task)):\n",
    "        h = np.shape(x)[0]\n",
    "    return h\n",
    "\n",
    "def heightOut(task):\n",
    "    for x, y in zip(*get_objects(task)):\n",
    "        h = np.shape(y)[0]\n",
    "    return h"
   ]
  },
  {
   "cell_type": "code",
   "execution_count": 144,
   "metadata": {},
   "outputs": [
    {
     "name": "stdout",
     "output_type": "stream",
     "text": [
      "Task 29 : 0c9aba6e\n"
     ]
    },
    {
     "data": {
      "image/png": "[encoded data removed]",
      "text/plain": [
       "<Figure size 1500x600 with 10 Axes>"
      ]
     },
     "metadata": {},
     "output_type": "display_data"
    },
    {
     "data": {
      "text/plain": [
       "(4, 4, 13, 6)"
      ]
     },
     "execution_count": 144,
     "metadata": {},
     "output_type": "execute_result"
    }
   ],
   "source": [
    "i = 29\n",
    "task1 = fast_task(i)\n",
    "fastPlot(i)\n",
    "widthIn(task1),widthOut(task1),heightIn(task1),heightOut(task1)\n"
   ]
  },
  {
   "cell_type": "code",
   "execution_count": null,
   "metadata": {},
   "outputs": [],
   "source": []
  }
 ],
 "metadata": {
  "kernelspec": {
   "display_name": "Python 3",
   "language": "python",
   "name": "python3"
  },
  "language_info": {
   "codemirror_mode": {
    "name": "ipython",
    "version": 3
   },
   "file_extension": ".py",
   "mimetype": "text/x-python",
   "name": "python",
   "nbconvert_exporter": "python",
   "pygments_lexer": "ipython3",
   "version": "3.10.11"
  }
 },
 "nbformat": 4,
 "nbformat_minor": 2
}
